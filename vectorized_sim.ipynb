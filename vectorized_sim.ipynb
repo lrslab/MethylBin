{
 "cells": [
  {
   "cell_type": "code",
   "execution_count": 1,
   "id": "2a0e45a6-afc6-40c1-9731-c08eb868dae0",
   "metadata": {},
   "outputs": [
    {
     "name": "stdout",
     "output_type": "stream",
     "text": [
      "[[1.         0.7        0.5        ... 0.45454545 0.54545455 0.7037037 ]\n",
      " [0.7        1.         0.30434783 ... 0.57142857 0.38888889 0.375     ]\n",
      " [0.5        0.30434783 1.         ... 0.43478261 0.6        0.54166667]\n",
      " ...\n",
      " [0.45454545 0.57142857 0.43478261 ... 1.         0.44444444 0.4       ]\n",
      " [0.54545455 0.38888889 0.6        ... 0.44444444 1.         0.47619048]\n",
      " [0.7037037  0.375      0.54166667 ... 0.4        0.47619048 1.        ]]\n"
     ]
    }
   ],
   "source": [
    "import numpy as np\n",
    "\n",
    "# Example initialization of a 50-column numpy array with NaN, 0, and 1\n",
    "np.random.seed(42)  # For reproducible results\n",
    "data = np.random.choice([np.nan, 0, 1], size=(100, 50))\n",
    "\n",
    "# Mask NaN values in the data\n",
    "nan_mask = ~np.isnan(data)\n",
    "\n",
    "# Initialize the output matrix to store the pairwise highest similarity\n",
    "num_rows = data.shape[0]\n",
    "similarity_matrix = np.full((num_rows, num_rows), np.nan)\n",
    "\n",
    "# Expand dimensions for broadcasting\n",
    "data_expanded_1 = np.expand_dims(data, axis=1)\n",
    "data_expanded_2 = np.expand_dims(data, axis=0)\n",
    "mask_expanded_1 = np.expand_dims(nan_mask, axis=1)\n",
    "mask_expanded_2 = np.expand_dims(nan_mask, axis=0)\n",
    "\n",
    "# Calculate valid positions mask\n",
    "valid_mask = mask_expanded_1 & mask_expanded_2\n",
    "\n",
    "# Calculate element-wise equality, ignoring NaNs\n",
    "equality = (data_expanded_1 == data_expanded_2) & valid_mask\n",
    "\n",
    "# Count the number of valid comparisons for each pair\n",
    "valid_counts = np.sum(valid_mask, axis=2)\n",
    "\n",
    "# Calculate the number of equal valid comparisons for each pair\n",
    "equal_counts = np.sum(equality, axis=2)\n",
    "\n",
    "# Avoid division by zero by setting valid_counts to 1 where it's zero\n",
    "valid_counts[valid_counts == 0] = 1\n",
    "\n",
    "# Calculate similarity as the proportion of equal valid comparisons\n",
    "similarity = equal_counts / valid_counts\n",
    "\n",
    "# Assign similarity to the similarity matrix\n",
    "similarity_matrix = similarity\n",
    "\n",
    "print(similarity_matrix)"
   ]
  },
  {
   "cell_type": "code",
   "execution_count": 9,
   "id": "7a8cef28-7ae5-473a-8064-9ec6726f1f7d",
   "metadata": {},
   "outputs": [
    {
     "data": {
      "text/plain": [
       "nan"
      ]
     },
     "execution_count": 9,
     "metadata": {},
     "output_type": "execute_result"
    }
   ],
   "source": [
    "data.sum()"
   ]
  },
  {
   "cell_type": "code",
   "execution_count": 10,
   "id": "4aa85743-8a08-4ed0-8525-f956dc1bfd26",
   "metadata": {},
   "outputs": [
    {
     "name": "stdout",
     "output_type": "stream",
     "text": [
      "Pairwise calculation time: 0.0594 seconds\n",
      "Vectorized calculation time: 0.0020 seconds\n",
      "Are the results the same? True\n"
     ]
    }
   ],
   "source": [
    "import numpy as np\n",
    "import time\n",
    "\n",
    "# Example initialization of a 50-column numpy array with NaN, 0, and 1\n",
    "np.random.seed(42)  # For reproducible results\n",
    "data = np.random.choice([np.nan, 0, 1], size=(100, 50))\n",
    "\n",
    "def pairwise_similarity(data):\n",
    "    num_rows = data.shape[0]\n",
    "    similarity_matrix = np.full((num_rows, num_rows), np.nan)\n",
    "\n",
    "    for i in range(num_rows):\n",
    "        for j in range(i, num_rows):\n",
    "            row1 = data[i]\n",
    "            row2 = data[j]\n",
    "            \n",
    "            valid_mask = ~np.isnan(row1) & ~np.isnan(row2)\n",
    "            valid_values_row1 = row1[valid_mask]\n",
    "            valid_values_row2 = row2[valid_mask]\n",
    "            \n",
    "            if valid_values_row1.size == 0:\n",
    "                similarity = np.nan\n",
    "            else:\n",
    "                similarity = np.sum(valid_values_row1 == valid_values_row2) / valid_values_row1.size\n",
    "            \n",
    "            similarity_matrix[i, j] = similarity_matrix[j, i] = similarity\n",
    "    \n",
    "    return similarity_matrix\n",
    "\n",
    "def vectorized_similarity(data):\n",
    "    nan_mask = ~np.isnan(data)\n",
    "    num_rows = data.shape[0]\n",
    "    \n",
    "    data_expanded_1 = np.expand_dims(data, axis=1)\n",
    "    data_expanded_2 = np.expand_dims(data, axis=0)\n",
    "    mask_expanded_1 = np.expand_dims(nan_mask, axis=1)\n",
    "    mask_expanded_2 = np.expand_dims(nan_mask, axis=0)\n",
    "\n",
    "    valid_mask = mask_expanded_1 & mask_expanded_2\n",
    "    equality = (data_expanded_1 == data_expanded_2) & valid_mask\n",
    "\n",
    "    valid_counts = np.sum(valid_mask, axis=2)\n",
    "    equal_counts = np.sum(equality, axis=2)\n",
    "\n",
    "    valid_counts[valid_counts == 0] = 1\n",
    "    similarity = equal_counts / valid_counts\n",
    "\n",
    "    return similarity\n",
    "\n",
    "# Measure execution time for pairwise calculation\n",
    "start_time = time.time()\n",
    "pairwise_similarity_matrix = pairwise_similarity(data)\n",
    "pairwise_time = time.time() - start_time\n",
    "\n",
    "# Measure execution time for vectorized calculation\n",
    "start_time = time.time()\n",
    "vectorized_similarity_matrix = vectorized_similarity(data)\n",
    "vectorized_time = time.time() - start_time\n",
    "\n",
    "print(f\"Pairwise calculation time: {pairwise_time:.4f} seconds\")\n",
    "print(f\"Vectorized calculation time: {vectorized_time:.4f} seconds\")\n",
    "\n",
    "# Check if the results are the same\n",
    "print(f\"Are the results the same? {np.allclose(pairwise_similarity_matrix, vectorized_similarity_matrix, equal_nan=True)}\")\n"
   ]
  }
 ],
 "metadata": {
  "kernelspec": {
   "display_name": "Python 3 (ipykernel)",
   "language": "python",
   "name": "python3"
  },
  "language_info": {
   "codemirror_mode": {
    "name": "ipython",
    "version": 3
   },
   "file_extension": ".py",
   "mimetype": "text/x-python",
   "name": "python",
   "nbconvert_exporter": "python",
   "pygments_lexer": "ipython3",
   "version": "3.10.14"
  }
 },
 "nbformat": 4,
 "nbformat_minor": 5
}
