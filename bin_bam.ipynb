{
 "cells": [
  {
   "cell_type": "code",
   "execution_count": null,
   "id": "ab293129",
   "metadata": {},
   "outputs": [],
   "source": [
    "import pysam\n",
    "import pandas as pd\n",
    "import numpy as np\n",
    "import multiprocessing\n",
    "pd.options.display.max_columns = None\n",
    "pd.options.display.max_rows = None"
   ]
  },
  {
   "cell_type": "code",
   "execution_count": null,
   "id": "e1e4bf4b",
   "metadata": {},
   "outputs": [],
   "source": [
    "binsize=25 #fix number of CpG\n",
    "maxgap=500 #max length of gap between bins"
   ]
  },
  {
   "cell_type": "code",
   "execution_count": null,
   "id": "5088db1a",
   "metadata": {},
   "outputs": [],
   "source": [
    "sample_name='FYC_3026_D0_M_s'\n",
    "bamfile=f'/t2/ny/dac/modbamall_drd/res/{sample_name}.bam'"
   ]
  },
  {
   "cell_type": "code",
   "execution_count": null,
   "id": "fe579625",
   "metadata": {},
   "outputs": [],
   "source": [
    "# all CpGs in the human genome\n",
    "df=pd.read_csv(\"/t2/ny/ref/hg38_autoxy_cg.bed\",sep=\"\\t\",header=None,dtype={0:str},usecols=[0,1,2,5])\n",
    "df.columns=[\"chro\",\"start\",\"end\",\"strand\"]\n",
    "\n",
    "# binning\n",
    "nbin = 1\n",
    "bin_column = [1]\n",
    "chromStart = df['start'].values\n",
    "chrom = df['chro'].values\n",
    "\n",
    "present_size=1\n",
    "for i in range(1, df.shape[0]):\n",
    "    present_size+=1\n",
    "    if chromStart[i] - chromStart[i-1] > maxgap or chrom[i] != chrom[i-1] or present_size>binsize*2:\n",
    "        nbin += 1\n",
    "        present_size=1\n",
    "    bin_column.append(nbin)\n",
    "df['bin'] = bin_column"
   ]
  },
  {
   "cell_type": "code",
   "execution_count": null,
   "id": "0993d498",
   "metadata": {},
   "outputs": [],
   "source": [
    "# remove bins that do not reach binsize\n",
    "df_only_in_binsize = df.groupby('bin').filter(lambda x: len(x) == binsize*2)\n",
    "total_bin_num=len(df_only_in_binsize.bin.unique())"
   ]
  },
  {
   "cell_type": "code",
   "execution_count": null,
   "id": "db69d66c",
   "metadata": {},
   "outputs": [],
   "source": [
    "def pairwise_similarity(d_A,d_B,l_cg_pos):\n",
    "    score=0\n",
    "    overlap=0\n",
    "    for pos in l_cg_pos[::2]:\n",
    "        if (pos in d_A or pos+1 in d_A) and (pos in d_B or pos+1 in d_B):\n",
    "            overlap+=1\n",
    "            status_A=status_B=0\n",
    "            if pos in d_A:\n",
    "                status_A=max(status_A,d_A[pos])\n",
    "            if pos+1 in d_A:\n",
    "                status_A=max(status_A,d_A[pos+1])\n",
    "            if pos in d_B:\n",
    "                status_B=max(status_B,d_B[pos])\n",
    "            if pos+1 in d_B:\n",
    "                status_B=max(status_B,d_B[pos+1])                \n",
    "            if status_A==status_B:\n",
    "                score+=1\n",
    "    return overlap,score\n",
    "    \n",
    "    \n",
    "\n",
    "def cal_matrix(dfbin,bam):\n",
    "    l_cg_pos=list(dfbin['start'])\n",
    "    start_pos=l_cg_pos[0]\n",
    "    end_pos=l_cg_pos[-1]\n",
    "    chrom=dfbin['chro'].iloc[0]\n",
    "    reads = bam.fetch(chrom, start_pos, end_pos)\n",
    "    \n",
    "    d_reads={}\n",
    "    \n",
    "    for read in reads: \n",
    "        if read.is_unmapped or read.is_secondary or read.is_supplementary:\n",
    "            continue\n",
    "        if read.has_tag(\"MM\"):\n",
    "            mm_tag = read.get_tag(\"MM\")            \n",
    "            mm_tag_l=[int(i) for i in mm_tag.strip(';').split(',')[1:]]\n",
    "            l_cg_pos_within_read=[i for i in l_cg_pos if i>=read.reference_start-1 and i<= read.reference_end-1]\n",
    "            d_methy=dict(zip(l_cg_pos_within_read,[0]*len(l_cg_pos_within_read)))\n",
    "            pos=read.reference_start-1\n",
    "            for i in mm_tag_l:\n",
    "                pos+=i+1\n",
    "                if pos in l_cg_pos:\n",
    "                    d_methy[pos]=1\n",
    "            \n",
    "        d_reads[read.query_name]=d_methy\n",
    "    \n",
    "#     identical_matrix = [[0] * len(d_reads) for _ in range(len(d_reads))]\n",
    "#     overlap_matrix = [[0] * len(d_reads) for _ in range(len(d_reads))]\n",
    "\n",
    "    similarity_matrix = np.zeros((len(d_reads), len(d_reads)))\n",
    "    total_overlap_point=0\n",
    "    keys = list(d_reads.keys())\n",
    "    for i in range(len(keys)):\n",
    "        for j in range(i, len(keys)):\n",
    "            key1 = keys[i]\n",
    "            key2 = keys[j]\n",
    "            data1 = d_reads[key1]\n",
    "            data2 = d_reads[key2]\n",
    "\n",
    "            n_overlap,identical_score = pairwise_similarity(data1, data2,l_cg_pos)\n",
    "            if n_overlap:\n",
    "                similarity_matrix[i][j]=similarity_matrix[j][i]=identical_score/n_overlap\n",
    "                total_overlap_point+=n_overlap\n",
    "            else:\n",
    "                similarity_matrix[i][j]=similarity_matrix[j][i]=np.nan\n",
    "#             overlap_matrix[i][j]=n_overlap\n",
    "#             overlap_matrix[j][i]=n_overlap\n",
    "#             identical_matrix[i][j] = identical_score\n",
    "#             identical_matrix[j][i] = identical_score\n",
    "            \n",
    "    return similarity_matrix,total_overlap_point\n",
    "    \n",
    "def get_summary(dfbin,bamfile):\n",
    "    bam = pysam.AlignmentFile(bamfile, 'rb')\n",
    "    similarity_matrix,total_overlap_point=cal_matrix(dfbin,bam)\n",
    "\n",
    "    half_diagonal = similarity_matrix[np.triu_indices(len(similarity_matrix), k=1)]\n",
    "    if half_diagonal.size > 0:\n",
    "        mean_value = np.nanmean(half_diagonal)\n",
    "    else:\n",
    "        mean_value = np.nan\n",
    "        \n",
    "    reads=len(similarity_matrix)\n",
    "    overlap_read_count = np.count_nonzero(~np.isnan(half_diagonal))\n",
    "    \n",
    "    dfbin_0,dfbin_last=dfbin.index[0],dfbin.index[-1]\n",
    "    start=dfbin['start'][dfbin_0]\n",
    "    end=dfbin['end'][dfbin_last]\n",
    "    \n",
    "    summary={\n",
    "    'chr':dfbin['chro'].iloc[0],\n",
    "    'start':start,\n",
    "    'end':end,\n",
    "    'length':end-start,\n",
    "    'similarity_mean':mean_value,\n",
    "    'n_overlapped_reads_pairs':overlap_read_count,\n",
    "    'n_reads':reads,\n",
    "    'total_overlapped_points':total_overlap_point}\n",
    "    return summary            "
   ]
  },
  {
   "cell_type": "code",
   "execution_count": null,
   "id": "29e2c034",
   "metadata": {},
   "outputs": [],
   "source": [
    "pool = multiprocessing.Pool(processes=128)\n",
    "l_summary = []\n",
    "for i in range(total_bin_num):\n",
    "    result = pool.apply_async(get_summary, (df_only_in_binsize[i*binsize*2:(i+1)*binsize*2], bamfile))\n",
    "    l_summary.append(result)\n",
    "pool.close()\n",
    "pool.join()"
   ]
  },
  {
   "cell_type": "code",
   "execution_count": null,
   "id": "12695a50",
   "metadata": {},
   "outputs": [],
   "source": [
    "l_summary = [res.get() for res in l_summary]\n",
    "df_summary = pd.DataFrame(l_summary)"
   ]
  },
  {
   "cell_type": "code",
   "execution_count": null,
   "id": "15ce0d26",
   "metadata": {},
   "outputs": [],
   "source": [
    "df_summary.to_csv(f'bin{binsize}CpG_{maxgap}gap_{sample_name}.csv',index=False,encoding='utf_8_sig')"
   ]
  }
 ],
 "metadata": {
  "kernelspec": {
   "display_name": "Python 3 (ipykernel)",
   "language": "python",
   "name": "python3"
  },
  "language_info": {
   "codemirror_mode": {
    "name": "ipython",
    "version": 3
   },
   "file_extension": ".py",
   "mimetype": "text/x-python",
   "name": "python",
   "nbconvert_exporter": "python",
   "pygments_lexer": "ipython3",
   "version": "3.10.2"
  }
 },
 "nbformat": 4,
 "nbformat_minor": 5
}
